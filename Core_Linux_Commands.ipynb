{
 "cells": [
  {
   "cell_type": "markdown",
   "id": "a50acd99",
   "metadata": {},
   "source": [
    "# More Core Linux Commands"
   ]
  },
  {
   "cell_type": "markdown",
   "id": "149ede90",
   "metadata": {},
   "source": [
    "Note that $ is the sign to enter a command"
   ]
  },
  {
   "cell_type": "markdown",
   "id": "4bda9e63",
   "metadata": {},
   "source": [
    "## Back to FHS/Filesystem Hierarchy Standard"
   ]
  },
  {
   "cell_type": "markdown",
   "id": "0963073c",
   "metadata": {},
   "source": [
    "**Root Directory**: Highest level directory in Linux; designated by a single slash. \n",
    "\n",
    "**Slashes** used when tracing back branches to the root. "
   ]
  },
  {
   "cell_type": "markdown",
   "id": "786e4bba",
   "metadata": {},
   "source": [
    "/home/warrick \n",
    "\n",
    "Note the first slash means root, and following slashes split into directories. "
   ]
  },
  {
   "cell_type": "markdown",
   "id": "a44074ce",
   "metadata": {},
   "source": [
    "$pwd$ Shows what directory you're in \n",
    "\n",
    "$ls$ Displays the names of files and directories in the current working directory \n",
    "\n",
    "$cat$ Displays some contents (all) of the file \n",
    "\n",
    "$head$ Displays the top 10 lines of the file\n",
    "\n",
    "$tail$ represents the last 10 lines of the file \n",
    "\n",
    "$less$ returns content of a file one page at a time \n",
    "\n",
    "Once content is accessed, you can use several keyboard controls to move through the file \n",
    "\n",
    "$space$ Move forward one page\n",
    "\n",
    "$b$ Move back one page\n",
    "\n",
    "$arrows$ Move forward/backward one line\n",
    "\n",
    "$q$ Quit and return to previous terminal window\n",
    "\n"
   ]
  },
  {
   "cell_type": "markdown",
   "id": "34a8b900",
   "metadata": {},
   "source": [
    "## Standard FHS Directories"
   ]
  },
  {
   "cell_type": "markdown",
   "id": "18a3923c",
   "metadata": {},
   "source": [
    "$/home$: Each user in the system gets their own home directory \n",
    "\n",
    "$/bin$: This stands for \"binary\" and contains binary files and other executables. Executables are files that contain a series of commands a comptuer needs to follow to run programs and perform other functions\n",
    "\n",
    "$/etc$: The system's configuration files \n",
    "\n",
    "$/tmp$: Stores many temporary files; commonly used by attackers because anyone in the system can modify data in these files. \n",
    "\n",
    "$/mnt$: Stands for \"mount\" and stores media, such as USB drives and hard drives. "
   ]
  },
  {
   "cell_type": "markdown",
   "id": "7a531fdd",
   "metadata": {},
   "source": [
    "## User-specific subdirectories"
   ]
  },
  {
   "cell_type": "markdown",
   "id": "5d7c4de6",
   "metadata": {},
   "source": [
    "Under \"home\" are subdirectories for specific users. \n",
    "\n",
    "**~, or tilde**: When the path leads to subdirectory below the user's home directory, the user's home directory can be represented as the tilde (~)\n",
    "\n",
    "so, **/home/Warrick/logs** can be represented as **~/log**\n",
    "\n",
    "**dot (.)** Represents the current directory \n",
    "\n",
    "**double dot (..)** Represents the parent of the current directory "
   ]
  },
  {
   "cell_type": "markdown",
   "id": "95f16440",
   "metadata": {},
   "source": [
    "## Filtering"
   ]
  },
  {
   "cell_type": "markdown",
   "id": "7f0daa26",
   "metadata": {},
   "source": [
    "$grep$ Searches a specified file and returns all lines in the file containing a specified string \n",
    "\n",
    "Commandly takes two arguments:\n",
    "- Argument 1: String we're looking fo r\n",
    "- Argument 2: Name of file we're searching through \n",
    "\n",
    "$| (Piping)$: Sends standard output of one command and sends as standard input to another command for further processing. \n",
    "\n",
    "$find$: Searches for directories and files that meet specified criteria. There's a wide range of criteria that can be specified with **find**. \n",
    "- Contains specific string in the name? \n",
    "- Certain file size \n",
    "- Were last modified within a certain time frame. \n",
    "\n",
    "First argument: Where to start searching.\n",
    "\n",
    "Second argument(s): The criteria. Entering \"find /home/analyst/projects\" searches for everything starting at the \"projects\" directory \n",
    "\n",
    "$-name$ and $-iname$: \n",
    "\n",
    "We usually use **find** to find files or directory names that contain a specific string. \n",
    "\n",
    "The specific string you're searching for must be entered in quotes after -name or -iname options. \n",
    "\n",
    "**-name** is case sensitive. \n",
    "\n",
    "**-iname** is not. \n",
    "\n",
    "Example: \n",
    "\n",
    "find /home/analyst/projects -name \"\\*log\\*\"\n",
    "\n",
    "\n",
    "\n"
   ]
  },
  {
   "cell_type": "markdown",
   "id": "256c4b61",
   "metadata": {},
   "source": [
    "**Example** \n",
    "\n",
    "ls /home/analyst/reports | grep users\n",
    "\n",
    "The ls tells the OS to output the files and directory contents of their reports subdirectory \n",
    "\n",
    "These are sent to the command \n",
    "\n",
    "grep will find and return all files and directories in that previously mentioned directory for the word, users\n"
   ]
  },
  {
   "cell_type": "markdown",
   "id": "983fd2e4",
   "metadata": {},
   "source": [
    "$-mtime$: \n",
    "\n",
    "Can be used to find fiels or directories last modified within a certain time frame. \n",
    "\n",
    "This is based on DAYS \n",
    "\n",
    "**-mtime+1** would search files/directories last modified more than one day ago. -1 would search those less than one day ago. \n",
    "\n",
    "$-mmin$: Same thing but fore minutes "
   ]
  },
  {
   "cell_type": "markdown",
   "id": "ff56ca35",
   "metadata": {},
   "source": [
    "## Creating and modifying directories and files \n",
    "\n",
    "**Subdirectories:** Other branches of the trees. \n",
    "\n",
    "Directories organize files for subdirectories. \n",
    "\n"
   ]
  },
  {
   "cell_type": "markdown",
   "id": "b3e3db16",
   "metadata": {},
   "source": [
    "$mkdir$: Creates a new directory \n",
    "\n",
    "If you're in a new directory this is created directly in it \n",
    "\n",
    "You can also explicitly specify where. \n",
    "\n",
    "$rmdir$: Removes directory \n",
    "\n",
    "Has built in warnings showing whether or files exist! \n",
    "\n",
    "$touch$: Creates new file \n",
    "\n",
    "$rm$: Deletes file \n",
    "\n",
    "$mv$: Moves a file --- Please use the full file directory!\n",
    "\n",
    "This command can also rename a file. \n",
    "\n",
    "For example mv permissions.txt perm.txt renames the .txt file\n",
    "\n",
    "$cp$: Copies a file or directory into new location "
   ]
  },
  {
   "cell_type": "markdown",
   "id": "eed6f048",
   "metadata": {},
   "source": [
    "### nano text editor\n",
    "\n",
    "Using \"nano\" on a new file name automatically creates a new file! "
   ]
  },
  {
   "cell_type": "markdown",
   "id": "13cd831a",
   "metadata": {},
   "source": [
    "### Standard output redirection \n",
    "\n",
    "**Standard Input**: Information received by the OS via the command line.\n",
    "\n",
    "**Standard Output**: Information returned by the OS through the shell. \n",
    "\n",
    "$> and >>$: Can be used to send the output of $echo$ to a specified file rather than the screen. \n",
    "\n",
    "$>$: Overwrites to the entire file \n",
    "\n",
    "$>>$: Appends to the end of the file"
   ]
  },
  {
   "cell_type": "markdown",
   "id": "bd1d77fd",
   "metadata": {},
   "source": [
    "## File Permissions and Ownership"
   ]
  },
  {
   "cell_type": "markdown",
   "id": "0a863631",
   "metadata": {},
   "source": [
    "### Permission \n",
    "Type of access granted for a file or directory \n",
    "\n",
    "### Authorization \n",
    "Concept of granting access to specific resources in a system\n",
    "\n",
    "### Three types of Linux Permissions \n",
    "- Read. On a directory, you can read all files \n",
    "- Write. Allows modification of contents of the file. For directories, this means new files can be added.   \n",
    "- Execute Permissions: File can be executed if it's an executable file. Execute permissions on directories allows users to enter into a directory and access its files. \n",
    "\n",
    "### Three different types of owners \n",
    "- User: owner of the file \n",
    "- Group: Every user is a part of a certain group\n",
    "- Other: Considered all other users on the system. Anyone else with access to the  system belongs to this group. \n",
    "\n",
    "File permissions in linux are represented with a 10-character string. For a directory with full permissions for the user group, this string would be **drwxrwxrwx**"
   ]
  },
  {
   "cell_type": "markdown",
   "id": "91dad6dd",
   "metadata": {},
   "source": [
    "### drwxrwxrwx: File permission for directory with full permissions for the user group "
   ]
  },
  {
   "cell_type": "markdown",
   "id": "6efd4201",
   "metadata": {},
   "source": [
    "First character --> File Type; d is directory. hyphen would be a regular file \n",
    "\n",
    "Second, third, fourth characters --> Permissions for the **user**. r indicates the user has read permissions, w means write, x means execute\n",
    "\n",
    "Fifth, sixth, seventh characters --> Same thing but for the **group**\n",
    "\n",
    "Eight, ninth, tenth characters --> Same thing but for **other**"
   ]
  },
  {
   "cell_type": "markdown",
   "id": "40d88747",
   "metadata": {},
   "source": [
    "## Options "
   ]
  },
  {
   "cell_type": "markdown",
   "id": "8a87c9c8",
   "metadata": {},
   "source": []
  },
  {
   "cell_type": "markdown",
   "id": "6d28da7f",
   "metadata": {},
   "source": [
    "Modifies the behavior of the command. \n",
    "\n",
    "Checking permissions adding options to the $ls$ commands. \n",
    "\n",
    "$ls -l$ Displays permissions to files and directories\n",
    "\n",
    "**Hidden Files**: Displays hidden files, which start with .\n",
    "\n",
    "Things like .git, .gitignore, .conda, .keras, etc are some common examples of hidden files. \n",
    "\n",
    "$ls -a$ Displays hidden files as well \n",
    "\n",
    "$ls -la$ Does both l and a"
   ]
  },
  {
   "cell_type": "markdown",
   "id": "b9f93455",
   "metadata": {},
   "source": [
    "## Permission Changing"
   ]
  },
  {
   "cell_type": "markdown",
   "id": "f030c26d",
   "metadata": {},
   "source": [
    "$chmod$: Changes permissions on files and directories\n",
    "\n",
    "Two modes for changing permissions. \n",
    "\n",
    "### Symbolic\n",
    "\n",
    "user -> u\n",
    "\n",
    "group -> g\n",
    "\n",
    "oher -> o\n",
    "\n",
    "**Example** \n",
    "chmod g+w, o-r access.txt \n",
    "\n",
    "access.txt --> Which file or directory to switch permissions \n",
    "g+w, o-r --> Indicates how to change permissions. \n",
    "\n",
    "\n",
    "So \"g+w\" and \"o-r\" means \n",
    "- Make changes to g\n",
    "- +w means add write permissions \n",
    "- Make changes to o \n",
    "- -r means remove read permissions\n",
    "\n"
   ]
  },
  {
   "cell_type": "markdown",
   "id": "7c3c42df",
   "metadata": {},
   "source": [
    "**Principle of least privilege**: Concept of granting only the minimal access and authorization required to complete a task or function. User should not have preivileges that are beyond what is necessary. \n",
    "\n",
    "You can also use the assign operator to overwrite all existing permissions!"
   ]
  },
  {
   "cell_type": "markdown",
   "id": "aec31a7c",
   "metadata": {},
   "source": [
    "## Adding and Deleting Users"
   ]
  },
  {
   "cell_type": "markdown",
   "id": "507a1ab5",
   "metadata": {},
   "source": [
    "Users can be new to organization or a group \n",
    "\n",
    "When users leave, you should delete the user \n",
    "\n",
    "**Root user/superuser**: Users with elevated privileges\n",
    "- Can create, modify, or delete any file and run any program \n",
    "- Only this user can add users. \n",
    "\n",
    "Breachers try to get into root account. Its login is usually disabled. \n",
    "\n",
    "With just root\n"
   ]
  },
  {
   "cell_type": "markdown",
   "id": "e6d595cf",
   "metadata": {},
   "source": [
    "$sudo$: Temporarily grants elevated permissions to specific users. \n",
    "\n",
    "Comes from \"superuser do\"\n",
    "\n",
    "It prompts you to enter a password. Not all users can become a superuser. \n",
    "\n",
    "Users must be granted sudo access through a configuration file called the **sudoers file**\n",
    "\n",
    "$useradd$: Adds a user to the system. \n",
    "\n",
    "\n",
    "**sudo useradd warrick2** \n",
    "\n",
    "Only root or sudo users can do this. \n",
    "\n",
    "You can also add -g and -G, which sets the user's defualt group and adds user to additional groups.\n",
    "\n",
    "$-g$: The primary group must be specified after g \n",
    "\n",
    "**sudo useradd -g ECE warrick** will add \"warrick\" as a new user and assigns the primary group as \"ECE\"\n",
    "\n",
    "\n",
    "$userdel$: Deletes a user from the system. We'll need root user privileges as well. \n",
    "\n",
    "$usermod$: Modifies existing user accounts. \n",
    "\n",
    "Changing primary group:\n",
    "\n",
    "**sudo usermod -g MIE warrick** would send my primary group to MIE \n",
    "\n",
    "Adding a supplemental group: \n",
    "\n",
    "**sudo usermod -a -G MIE warrick** would add a supplemental group, ECE, to my user. \n",
    "\n",
    "$-d$: Changes the user's home directory \n",
    "\n",
    "$-l$: Changes the user's login name\n",
    "\n",
    "$-L$: Locks the account so the user can't log in. \n",
    "\n",
    "$chown$: Changes ownership of a file or directory. You can use **chown** to change user or group ownership. \n",
    "\n",
    "**sudo chown warrick fail.txt** This changes the user owner of fail.txt to \"warrick\" "
   ]
  },
  {
   "cell_type": "markdown",
   "id": "de40000f",
   "metadata": {},
   "source": []
  }
 ],
 "metadata": {
  "language_info": {
   "name": "python"
  }
 },
 "nbformat": 4,
 "nbformat_minor": 5
}
