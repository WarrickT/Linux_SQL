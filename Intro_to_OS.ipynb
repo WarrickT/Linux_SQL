{
 "cells": [
  {
   "cell_type": "markdown",
   "id": "198e3572",
   "metadata": {},
   "source": [
    "# Linux Operating Systems"
   ]
  },
  {
   "cell_type": "markdown",
   "id": "99d5583a",
   "metadata": {},
   "source": [
    "Recall OS: Interface between computer hardware and user"
   ]
  },
  {
   "cell_type": "markdown",
   "id": "cd07809c",
   "metadata": {},
   "source": [
    "## Risks of running legacy operating systems"
   ]
  },
  {
   "cell_type": "markdown",
   "id": "8848fc73",
   "metadata": {},
   "source": [
    "### Legacy Operating Systems"
   ]
  },
  {
   "cell_type": "markdown",
   "id": "2e77d476",
   "metadata": {},
   "source": [
    "An outdated OS but still being used. Often used if software is not compatible with newer OS. \n"
   ]
  },
  {
   "cell_type": "markdown",
   "id": "ac79eedf",
   "metadata": {},
   "source": []
  },
  {
   "cell_type": "markdown",
   "id": "c0c2e4a5",
   "metadata": {},
   "source": [
    "## Inside the Operating System"
   ]
  },
  {
   "cell_type": "markdown",
   "id": "ce00646c",
   "metadata": {},
   "source": []
  },
  {
   "cell_type": "markdown",
   "id": "1d1f39ba",
   "metadata": {},
   "source": [
    "When turning on computer, this boots computer and brings up OS. Special microship called BIOS. This is often replaced with UEFI after 2017. \n",
    "\n",
    "The bootloader is responsible for starting the OS. \n",
    "\n",
    "The BIOS is not scanned by antivrius, so it's vulnerable to malware \n",
    "\n"
   ]
  },
  {
   "cell_type": "markdown",
   "id": "aab69307",
   "metadata": {},
   "source": [
    "Application --> Program performing a specific task \n",
    "\n",
    "OS interprets the request and directs it to certain hardware\n",
    "\n",
    "Hardware also sends information back into the OS. "
   ]
  },
  {
   "cell_type": "markdown",
   "id": "66554956",
   "metadata": {},
   "source": [
    "## Requests to the operating system "
   ]
  },
  {
   "cell_type": "markdown",
   "id": "02eb8074",
   "metadata": {},
   "source": [
    "### Booting the computer"
   ]
  },
  {
   "cell_type": "markdown",
   "id": "4134d94a",
   "metadata": {},
   "source": [
    "Either BIOS or UEFI microchip activates. "
   ]
  },
  {
   "cell_type": "markdown",
   "id": "8e229491",
   "metadata": {},
   "source": [
    "BIOS: basic I/o system \n",
    "\n",
    "UEFI: Unified Extensible Firmware Interface"
   ]
  },
  {
   "cell_type": "markdown",
   "id": "c0c79083",
   "metadata": {},
   "source": [
    "## Resource Allocation via the OS"
   ]
  },
  {
   "cell_type": "markdown",
   "id": "01b9e1e2",
   "metadata": {},
   "source": [
    "The OS is the \"conductor\" of the orchestra. OS handles resources and memory management to ensure the limited capacity is used where it's needed most. \n"
   ]
  },
  {
   "cell_type": "markdown",
   "id": "5638e0e2",
   "metadata": {},
   "source": [
    "## Virtualization Technology"
   ]
  },
  {
   "cell_type": "markdown",
   "id": "a6e5597c",
   "metadata": {},
   "source": [
    "OS can run on virtual machines. \n",
    "\n",
    "VMs are virtual versions of a physical computer. They are one exmaple of virtualization. \n",
    "\n",
    "It's the process of using software to create virtual representations of various physical machines. \n",
    "\n",
    "This is because the machines don't exist physically but operate like they do because thr software simualtes physical hardware. "
   ]
  },
  {
   "cell_type": "markdown",
   "id": "63fdc0c3",
   "metadata": {},
   "source": [
    "You can run multiple VMs using the physical hardware. This involves dividing the resoruces of the hsot comptuer to be shared across all physical and visual compoentns. \n",
    "\n"
   ]
  },
  {
   "cell_type": "markdown",
   "id": "c1a7d538",
   "metadata": {},
   "source": [
    "**Security**\n",
    "\n",
    "Provides an isolated environment or a sandbox on the physical host machine \n",
    "\n",
    "When a computer has multiple VMs, they are \"guests\" of the computer \n",
    "\n",
    "They are isolated from the host computer and other guest VMs. \n",
    "\n",
    "This provides a layer of security because VMs can be kept separate from the other systems. "
   ]
  },
  {
   "cell_type": "markdown",
   "id": "73985eae",
   "metadata": {},
   "source": [
    "**Hypervisor**\n",
    "Vms can be managed with a software called a hypervisor. This helps users manage multiple VMs and connect the virtual and physical hardware. \n",
    "\n",
    "They also help with allocating the shared resources of the physical host machine to one or more virtual machines. \n",
    "\n",
    "**KVM/Kernel-based Virtual machine**\n",
    "Open source hypervisor supported by most major Linux distributions. Built into Linux kernel and can be used to create virtual machines on any Linux OS. \n"
   ]
  },
  {
   "cell_type": "markdown",
   "id": "05decfb3",
   "metadata": {},
   "source": [
    "### GUI vs CLI\n",
    "\n",
    "Allows user to control the functions of hte OS> \n",
    "\n",
    "**Basic GUI components**\n",
    "- Menu \n",
    "- Task Bar \n",
    "- Desktop\n",
    "\n",
    "- Can only make one request at a time \n",
    "\n",
    "\n",
    "**CLI: Command Line Interface**\n",
    "- Text based interface\n",
    "\n",
    "- CLI allows you to complete tasks simultaneously."
   ]
  },
  {
   "cell_type": "markdown",
   "id": "4df973a7",
   "metadata": {},
   "source": [
    "## Module 1 Glossary/Important Terms"
   ]
  }
 ],
 "metadata": {
  "language_info": {
   "name": "python"
  }
 },
 "nbformat": 4,
 "nbformat_minor": 5
}
